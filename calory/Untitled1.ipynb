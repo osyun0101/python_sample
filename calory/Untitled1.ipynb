{
 "cells": [
  {
   "cell_type": "code",
   "execution_count": 8,
   "metadata": {},
   "outputs": [
    {
     "name": "stdout",
     "output_type": "stream",
     "text": [
      "保存しました image/photos.npz 300\n"
     ]
    }
   ],
   "source": [
    "import numpy as np\n",
    "import random, glob\n",
    "from PIL import Image\n",
    "\n",
    "path = './image'\n",
    "size = 32\n",
    "max_num = 100\n",
    "out_file = 'image/photos.npz'\n",
    "x = []\n",
    "y = []\n",
    "def main():\n",
    "    glob_files(path+'/'+'sushi', 0)\n",
    "    glob_files(path+'/'+'salad', 1)\n",
    "    glob_files(path+'/'+'tofu', 2)\n",
    "    np.savez(out_file, x=x, y=y)\n",
    "    print('保存しました', out_file, len(x))\n",
    "\n",
    "    \n",
    "def glob_files(filepath, label):\n",
    "    file = glob.glob(filepath+'/'+'*.jpg')\n",
    "    random.shuffle(file)\n",
    "    num = 0\n",
    "    for f in file:\n",
    "        if num >= max_num: break\n",
    "        num += 1\n",
    "        img = Image.open(f)\n",
    "        img = img.convert('RGB')\n",
    "        img = img.resize((size, size))\n",
    "        x.append(np.asarray(img))\n",
    "        y.append(label)\n",
    "\n",
    "if __name__=='__main__':\n",
    "    main()"
   ]
  },
  {
   "cell_type": "code",
   "execution_count": null,
   "metadata": {},
   "outputs": [],
   "source": []
  },
  {
   "cell_type": "code",
   "execution_count": null,
   "metadata": {},
   "outputs": [],
   "source": []
  }
 ],
 "metadata": {
  "kernelspec": {
   "display_name": "Python 3",
   "language": "python",
   "name": "python3"
  },
  "language_info": {
   "codemirror_mode": {
    "name": "ipython",
    "version": 3
   },
   "file_extension": ".py",
   "mimetype": "text/x-python",
   "name": "python",
   "nbconvert_exporter": "python",
   "pygments_lexer": "ipython3",
   "version": "3.7.0"
  }
 },
 "nbformat": 4,
 "nbformat_minor": 4
}
