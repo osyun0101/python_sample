{
 "cells": [
  {
   "cell_type": "code",
   "execution_count": 6,
   "metadata": {},
   "outputs": [],
   "source": [
    "import numpy as np\n",
    "import pickle\n",
    "\n",
    "hand = {'グー': 0, 'チョキ': 1, 'パー': 2}\n",
    "results = {'あいこ', '負け','勝ち'}\n",
    "\n",
    "gudge = lambda a,b: (a-b+3)%3\n",
    "\n",
    "import random\n",
    "x = []\n",
    "y = []\n",
    "for i in range(3000):\n",
    "    a = random.randint(0,2)\n",
    "    b = random.randint(0,2)\n",
    "    result = gudge(a, b)\n",
    "    x.append([a,b])\n",
    "    y.append(result)\n",
    "    \n",
    "\n",
    "x_train = x[0:2000]\n",
    "x_test = x[2000:]\n",
    "y_train = y[0:2000]\n",
    "y_test = y[2000:]\n",
    "\n",
    "items = [x_train,x_test,y_train, y_test]\n",
    "with open('janken-data.pickle', 'wb') as fp:\n",
    "    pickle.dump(items, fp)"
   ]
  },
  {
   "cell_type": "code",
   "execution_count": null,
   "metadata": {},
   "outputs": [],
   "source": []
  }
 ],
 "metadata": {
  "kernelspec": {
   "display_name": "Python 3",
   "language": "python",
   "name": "python3"
  },
  "language_info": {
   "codemirror_mode": {
    "name": "ipython",
    "version": 3
   },
   "file_extension": ".py",
   "mimetype": "text/x-python",
   "name": "python",
   "nbconvert_exporter": "python",
   "pygments_lexer": "ipython3",
   "version": "3.7.0"
  }
 },
 "nbformat": 4,
 "nbformat_minor": 4
}
