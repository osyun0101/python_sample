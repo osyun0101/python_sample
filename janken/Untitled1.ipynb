{
 "cells": [
  {
   "cell_type": "code",
   "execution_count": 8,
   "metadata": {},
   "outputs": [
    {
     "name": "stdout",
     "output_type": "stream",
     "text": [
      "Epoch 1/20\n",
      "63/63 [==============================] - 0s 601us/step - loss: 1.1154 - accuracy: 0.3695\n",
      "Epoch 2/20\n",
      "63/63 [==============================] - 0s 546us/step - loss: 1.0389 - accuracy: 0.4695\n",
      "Epoch 3/20\n",
      "63/63 [==============================] - 0s 587us/step - loss: 0.9806 - accuracy: 0.7685\n",
      "Epoch 4/20\n",
      "63/63 [==============================] - 0s 628us/step - loss: 0.9351 - accuracy: 0.8750\n",
      "Epoch 5/20\n",
      "63/63 [==============================] - 0s 647us/step - loss: 0.8879 - accuracy: 0.8080\n",
      "Epoch 6/20\n",
      "63/63 [==============================] - 0s 614us/step - loss: 0.8392 - accuracy: 0.8325\n",
      "Epoch 7/20\n",
      "63/63 [==============================] - 0s 659us/step - loss: 0.7926 - accuracy: 0.8590\n",
      "Epoch 8/20\n",
      "63/63 [==============================] - 0s 655us/step - loss: 0.7476 - accuracy: 0.9810\n",
      "Epoch 9/20\n",
      "63/63 [==============================] - 0s 659us/step - loss: 0.7036 - accuracy: 0.9795\n",
      "Epoch 10/20\n",
      "63/63 [==============================] - 0s 631us/step - loss: 0.6626 - accuracy: 0.9845\n",
      "Epoch 11/20\n",
      "63/63 [==============================] - 0s 627us/step - loss: 0.6231 - accuracy: 0.9615\n",
      "Epoch 12/20\n",
      "63/63 [==============================] - 0s 642us/step - loss: 0.5856 - accuracy: 1.0000\n",
      "Epoch 13/20\n",
      "63/63 [==============================] - 0s 615us/step - loss: 0.5508 - accuracy: 1.0000\n",
      "Epoch 14/20\n",
      "63/63 [==============================] - 0s 628us/step - loss: 0.5171 - accuracy: 1.0000\n",
      "Epoch 15/20\n",
      "63/63 [==============================] - 0s 661us/step - loss: 0.4868 - accuracy: 0.9915\n",
      "Epoch 16/20\n",
      "63/63 [==============================] - 0s 638us/step - loss: 0.4574 - accuracy: 1.0000\n",
      "Epoch 17/20\n",
      "63/63 [==============================] - 0s 638us/step - loss: 0.4299 - accuracy: 1.0000\n",
      "Epoch 18/20\n",
      "63/63 [==============================] - 0s 687us/step - loss: 0.4044 - accuracy: 1.0000\n",
      "Epoch 19/20\n",
      "63/63 [==============================] - 0s 662us/step - loss: 0.3801 - accuracy: 1.0000\n",
      "Epoch 20/20\n",
      "63/63 [==============================] - 0s 726us/step - loss: 0.3581 - accuracy: 1.0000\n",
      "32/32 - 0s - loss: 0.3580 - accuracy: 1.0000\n",
      "[[0.8167355  0.09483092 0.0884335 ]]\n",
      "[[0.11030892 0.15779872 0.7318924 ]]\n",
      "[[0.11890521 0.73013735 0.15095742]]\n"
     ]
    }
   ],
   "source": [
    "import tensorflow as tf\n",
    "import pickle\n",
    "import numpy as np\n",
    "\n",
    "with open('janken-data.pickle', 'rb') as fp:\n",
    "    data = pickle.load(fp)\n",
    "    \n",
    "(x_train, y_train),(x_test, y_test) = data\n",
    "\n",
    "model = tf.keras.models.Sequential([\n",
    "    tf.keras.layers.Dense(30, activation='relu', input_dim=2),\n",
    "    tf.keras.layers.Dense(3, activation='softmax')\n",
    "])\n",
    "model.compile(\n",
    "    optimizer='adam',\n",
    "    loss='sparse_categorical_crossentropy',\n",
    "    metrics=['accuracy']\n",
    ")\n",
    "\n",
    "model.fit(x_train, y_train, epochs=20)\n",
    "model.evaluate(x_test, y_test, verbose=2)\n",
    "\n",
    "def janken(a,b):\n",
    "    hands = {'グー': 0, 'チョキ': 1, 'パー': 2}\n",
    "    result = ['あいこ', '負け', '勝ち']\n",
    "    test = np.array([[hands[a], hands[b]]])\n",
    "    pre = model.predict(test)\n",
    "    print(pre)\n",
    "    print(a,b, pre[0].ag)\n",
    "\n",
    "janken('グー', 'グー')\n",
    "janken('チョキ', 'パー')\n",
    "janken('パー', 'チョキ')"
   ]
  },
  {
   "cell_type": "code",
   "execution_count": null,
   "metadata": {},
   "outputs": [],
   "source": []
  },
  {
   "cell_type": "code",
   "execution_count": null,
   "metadata": {},
   "outputs": [],
   "source": []
  }
 ],
 "metadata": {
  "kernelspec": {
   "display_name": "Python 3",
   "language": "python",
   "name": "python3"
  },
  "language_info": {
   "codemirror_mode": {
    "name": "ipython",
    "version": 3
   },
   "file_extension": ".py",
   "mimetype": "text/x-python",
   "name": "python",
   "nbconvert_exporter": "python",
   "pygments_lexer": "ipython3",
   "version": "3.7.0"
  }
 },
 "nbformat": 4,
 "nbformat_minor": 4
}
