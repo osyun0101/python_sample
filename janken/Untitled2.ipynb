{
 "cells": [
  {
   "cell_type": "code",
   "execution_count": 1,
   "metadata": {},
   "outputs": [
    {
     "name": "stdout",
     "output_type": "stream",
     "text": [
      "Model: \"sequential\"\n",
      "_________________________________________________________________\n",
      "Layer (type)                 Output Shape              Param #   \n",
      "=================================================================\n",
      "dense (Dense)                (None, 30)                90        \n",
      "_________________________________________________________________\n",
      "dense_1 (Dense)              (None, 3)                 93        \n",
      "=================================================================\n",
      "Total params: 183\n",
      "Trainable params: 183\n",
      "Non-trainable params: 0\n",
      "_________________________________________________________________\n",
      "Epoch 1/30\n",
      "63/63 [==============================] - 0s 622us/step - loss: 1.0641 - accuracy: 0.5810\n",
      "Epoch 2/30\n",
      "63/63 [==============================] - 0s 582us/step - loss: 0.9989 - accuracy: 0.7855\n",
      "Epoch 3/30\n",
      "63/63 [==============================] - 0s 583us/step - loss: 0.9353 - accuracy: 0.7855\n",
      "Epoch 4/30\n",
      "63/63 [==============================] - 0s 610us/step - loss: 0.8773 - accuracy: 0.8170\n",
      "Epoch 5/30\n",
      "63/63 [==============================] - 0s 614us/step - loss: 0.8148 - accuracy: 1.0000\n",
      "Epoch 6/30\n",
      "63/63 [==============================] - 0s 598us/step - loss: 0.7539 - accuracy: 1.0000\n",
      "Epoch 7/30\n",
      "63/63 [==============================] - 0s 603us/step - loss: 0.6959 - accuracy: 0.9300\n",
      "Epoch 8/30\n",
      "63/63 [==============================] - 0s 612us/step - loss: 0.6392 - accuracy: 1.0000\n",
      "Epoch 9/30\n",
      "63/63 [==============================] - 0s 638us/step - loss: 0.5847 - accuracy: 1.0000\n",
      "Epoch 10/30\n",
      "63/63 [==============================] - 0s 594us/step - loss: 0.5324 - accuracy: 1.0000\n",
      "Epoch 11/30\n",
      "63/63 [==============================] - 0s 616us/step - loss: 0.4823 - accuracy: 1.0000\n",
      "Epoch 12/30\n",
      "63/63 [==============================] - 0s 558us/step - loss: 0.4357 - accuracy: 1.0000\n",
      "Epoch 13/30\n",
      "63/63 [==============================] - 0s 630us/step - loss: 0.3930 - accuracy: 1.0000\n",
      "Epoch 14/30\n",
      "63/63 [==============================] - 0s 592us/step - loss: 0.3530 - accuracy: 1.0000\n",
      "Epoch 15/30\n",
      "63/63 [==============================] - 0s 622us/step - loss: 0.3175 - accuracy: 1.0000\n",
      "Epoch 16/30\n",
      "63/63 [==============================] - 0s 683us/step - loss: 0.2847 - accuracy: 1.0000\n",
      "Epoch 17/30\n",
      "63/63 [==============================] - 0s 695us/step - loss: 0.2554 - accuracy: 1.0000\n",
      "Epoch 18/30\n",
      "63/63 [==============================] - 0s 715us/step - loss: 0.2294 - accuracy: 1.0000\n",
      "Epoch 19/30\n",
      "63/63 [==============================] - 0s 677us/step - loss: 0.2060 - accuracy: 1.0000\n",
      "Epoch 20/30\n",
      "63/63 [==============================] - 0s 739us/step - loss: 0.1852 - accuracy: 1.0000\n",
      "Epoch 21/30\n",
      "63/63 [==============================] - 0s 708us/step - loss: 0.1665 - accuracy: 1.0000\n",
      "Epoch 22/30\n",
      "63/63 [==============================] - 0s 659us/step - loss: 0.1499 - accuracy: 1.0000\n",
      "Epoch 23/30\n",
      "63/63 [==============================] - 0s 653us/step - loss: 0.1353 - accuracy: 1.0000\n",
      "Epoch 24/30\n",
      "63/63 [==============================] - 0s 670us/step - loss: 0.1221 - accuracy: 1.0000\n",
      "Epoch 25/30\n",
      "63/63 [==============================] - 0s 638us/step - loss: 0.1105 - accuracy: 1.0000\n",
      "Epoch 26/30\n",
      "63/63 [==============================] - 0s 651us/step - loss: 0.1002 - accuracy: 1.0000\n",
      "Epoch 27/30\n",
      "63/63 [==============================] - 0s 666us/step - loss: 0.0910 - accuracy: 1.0000\n",
      "Epoch 28/30\n",
      "63/63 [==============================] - 0s 648us/step - loss: 0.0828 - accuracy: 1.0000\n",
      "Epoch 29/30\n",
      "63/63 [==============================] - 0s 674us/step - loss: 0.0755 - accuracy: 1.0000\n",
      "Epoch 30/30\n",
      "63/63 [==============================] - 0s 601us/step - loss: 0.0689 - accuracy: 1.0000\n",
      "32/32 - 0s - loss: 0.0673 - accuracy: 1.0000\n"
     ]
    },
    {
     "data": {
      "text/plain": [
       "[0.06727390736341476, 1.0]"
      ]
     },
     "execution_count": 1,
     "metadata": {},
     "output_type": "execute_result"
    }
   ],
   "source": [
    "import tensorflow as tf\n",
    "import pickle\n",
    "\n",
    "with open('janken-data.pickle', 'rb') as fp:\n",
    "    data = pickle.load(fp)\n",
    "\n",
    "(x_train,y_train), (x_test, y_test) = data\n",
    "\n",
    "model = tf.keras.models.Sequential([\n",
    "    tf.keras.layers.Dense(30, activation='relu', input_dim=2),\n",
    "    tf.keras.layers.Dense(3, activation='softmax')\n",
    "])\n",
    "\n",
    "model.compile(\n",
    "    optimizer= 'adam',\n",
    "    loss='sparse_categorical_crossentropy',\n",
    "    metrics=['accuracy']\n",
    ")\n",
    "\n",
    "model.summary()\n",
    "\n",
    "tf.keras.utils.plot_model(model, to_file='janken-model.png')\n",
    "\n",
    "model.fit(x_train, y_train, epochs=30)\n",
    "model.evaluate(x_test, y_test, verbose=2)"
   ]
  },
  {
   "cell_type": "code",
   "execution_count": null,
   "metadata": {},
   "outputs": [],
   "source": []
  }
 ],
 "metadata": {
  "kernelspec": {
   "display_name": "Python 3",
   "language": "python",
   "name": "python3"
  },
  "language_info": {
   "codemirror_mode": {
    "name": "ipython",
    "version": 3
   },
   "file_extension": ".py",
   "mimetype": "text/x-python",
   "name": "python",
   "nbconvert_exporter": "python",
   "pygments_lexer": "ipython3",
   "version": "3.7.0"
  }
 },
 "nbformat": 4,
 "nbformat_minor": 4
}
