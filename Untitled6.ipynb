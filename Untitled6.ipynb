{
 "cells": [
  {
   "cell_type": "code",
   "execution_count": 22,
   "metadata": {},
   "outputs": [
    {
     "name": "stdout",
     "output_type": "stream",
     "text": [
      "[[ 0  0  0  0  0  0  0  0  0  0 15 15 15  0  0  0  0  0  0  0  0 15  0  0\n",
      "   0  0  0  0  0 15  0  0  0  0  0  0 15  0  0  0  0  0 15 15  0  0  0  0\n",
      "   0 15 15 15 15 15 15  0  0  0  0  0  0  0  0  0]]\n",
      "my2.png=None\n",
      "[[ 0  0  0  0  0  0  0  0  0  0  0  0  0  0  0  0  0  0 15  0  0  0  0  0\n",
      "   0  0  0  0  0  0  0  0  0 15  0  0  0  0  0  0  0 15 15 15 15 12  0  0\n",
      "   0  0  0  0  0  0  0  0  0  0  0  0  0  0  0  0]]\n",
      "my4.png=None\n",
      "[[ 0  0  0  0  0  0  0  0  0  0 15  0  0 15  0  0  0  0 15  0  0 15  0  0\n",
      "   0  0  0 15 15  0  0  0  0  0  0  0 15  0  0  0  0  0  0  0 15  0  0  0\n",
      "   0  0  0  0  0  0  0  0  0  0  0  0  0  0  0  0]]\n",
      "my9.png=None\n"
     ]
    }
   ],
   "source": [
    "import cv2 \n",
    "import pickle\n",
    "\n",
    "def digit_image(filename):\n",
    "    with open(\"already.data\", \"rb\") as fp:\n",
    "        clf = pickle.load(fp)\n",
    "    img = cv2.imread(filename)\n",
    "    img_g = cv2.cvtColor(img, cv2.COLOR_BGR2GRAY)\n",
    "    img_g = cv2.resize(img_g, dsize=(8,8))\n",
    "    img_c = 15 - img_g // 16\n",
    "    img_c = img_c.reshape(-1, 64)\n",
    "    clf.predict(img_c)\n",
    "\n",
    "n = digit_image(\"my2.png\")\n",
    "print(\"my2.png=\" + str(n))\n",
    "n2 = digit_image(\"my4.png\")\n",
    "print(\"my4.png=\" + str(n2))\n",
    "n3 = digit_image(\"my9.png\")\n",
    "print(\"my9.png=\" + str(n3))"
   ]
  },
  {
   "cell_type": "code",
   "execution_count": null,
   "metadata": {},
   "outputs": [],
   "source": []
  }
 ],
 "metadata": {
  "kernelspec": {
   "display_name": "Python 3",
   "language": "python",
   "name": "python3"
  },
  "language_info": {
   "codemirror_mode": {
    "name": "ipython",
    "version": 3
   },
   "file_extension": ".py",
   "mimetype": "text/x-python",
   "name": "python",
   "nbconvert_exporter": "python",
   "pygments_lexer": "ipython3",
   "version": "3.7.0"
  }
 },
 "nbformat": 4,
 "nbformat_minor": 4
}
