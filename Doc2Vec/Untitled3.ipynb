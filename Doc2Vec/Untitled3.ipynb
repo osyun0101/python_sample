{
 "cells": [
  {
   "cell_type": "code",
   "execution_count": 12,
   "metadata": {},
   "outputs": [
    {
     "name": "stdout",
     "output_type": "stream",
     "text": [
      "宮沢 賢治:よだかの星との類似度が高い３作品は\n",
      "[('宮澤 賢治:やまなし', 0.9883283376693726), ('宮澤 賢治:どんぐりと山猫', 0.9857877492904663), ('宮澤 賢治:セロ弾きのゴーシュ', 0.9809721112251282)]\n",
      "芥川 龍之介:犬と笛との類似度が高い３作品は\n",
      "[('芥川 竜之介:鼻', 0.9763780236244202), ('芥川 竜之介:老年', 0.9695495963096619), ('芥川 竜之介:羅生門', 0.9676886200904846)]\n",
      "ポー エドガー・アラン:マリー・ロジェエの怪事件との類似度が高い３作品は\n",
      "[('ポー エドガー・アラン:落穴と振子', 0.9118558168411255), ('ポー エドガー・アラン:ウィリアム・ウィルスン', 0.9000227451324463), ('ポー エドガー・アラン:黒猫', 0.8608208894729614)]\n",
      "紫式部:源氏物語 06 末摘花との類似度が高い３作品は\n",
      "[('紫式部:源氏物語 04 夕顔', 0.990317702293396), ('紫式部:源氏物語 02 帚木', 0.9895785450935364), ('紫式部:源氏物語 05 若紫', 0.9884728193283081)]\n"
     ]
    }
   ],
   "source": [
    "import MeCab\n",
    "from gensim import models\n",
    "import urllib.request as req\n",
    "import os.path\n",
    "import zipfile\n",
    "\n",
    "mecab = MeCab.Tagger()\n",
    "mecab.parse(\"\")\n",
    "model = models.doc2vec.Doc2Vec.load(\"aozora.2model\")\n",
    "\n",
    "def read_book(url, zipname):\n",
    "    if not os.path.exists(zipname):\n",
    "        req.urlretrieve(url, zipname)\n",
    "    with zipfile.ZipFile(zipname, 'r') as df:\n",
    "        for namelist in df.namelist():\n",
    "            with df.open(namelist, 'r') as nf:\n",
    "                return nf.read().decode(\"shift-jis\")\n",
    "\n",
    "            \n",
    "def split_word(file):\n",
    "    node = mecab.parseToNode(file)\n",
    "    document = []\n",
    "    while node is not None:\n",
    "        fea = node.feature.split(\",\")[0]\n",
    "        if fea in [\"名詞\"]:\n",
    "            document.append(node.surface)\n",
    "        elif fea in [\"動詩\", \"形容詞\"]:\n",
    "            document.append(node.feature.split(\",\")[6])\n",
    "        node = node.next\n",
    "    return document\n",
    "\n",
    "def similar(name, url):\n",
    "    zipname = url.split(\"/\")[-1]\n",
    "    file = read_book(url, zipname)\n",
    "    word = split_word(file)\n",
    "    vector = model.infer_vector(word)\n",
    "    print(name + \"との類似度が高い３作品は\")\n",
    "    print(model.docvecs.most_similar([vector], topn=3))\n",
    "\n",
    "similar(\"宮沢 賢治:よだかの星\",\n",
    "        \"https://www.aozora.gr.jp/cards/000081/files/473_ruby_467.zip\")\n",
    "\n",
    "similar(\"芥川 龍之介:犬と笛\",\n",
    "        \"https://www.aozora.gr.jp/cards/000879/files/56_ruby_845.zip\")\n",
    "\n",
    "similar(\"ポー エドガー・アラン:マリー・ロジェエの怪事件\",\n",
    "        \"https://www.aozora.gr.jp/cards/000094/files/4261_ruby_54182.zip\")\n",
    "\n",
    "similar(\"紫式部:源氏物語 06 末摘花\",\n",
    "        \"https://www.aozora.gr.jp/cards/000052/files/5021_ruby_11106.zip\")"
   ]
  },
  {
   "cell_type": "code",
   "execution_count": null,
   "metadata": {},
   "outputs": [],
   "source": []
  }
 ],
 "metadata": {
  "kernelspec": {
   "display_name": "Python 3",
   "language": "python",
   "name": "python3"
  },
  "language_info": {
   "codemirror_mode": {
    "name": "ipython",
    "version": 3
   },
   "file_extension": ".py",
   "mimetype": "text/x-python",
   "name": "python",
   "nbconvert_exporter": "python",
   "pygments_lexer": "ipython3",
   "version": "3.7.0"
  }
 },
 "nbformat": 4,
 "nbformat_minor": 4
}
