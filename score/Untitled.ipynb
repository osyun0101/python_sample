{
 "cells": [
  {
   "cell_type": "code",
   "execution_count": 7,
   "metadata": {},
   "outputs": [
    {
     "name": "stdout",
     "output_type": "stream",
     "text": [
      "ETL1/ETL1C_08\n",
      "ETL1/ETL1C_01\n",
      "ETL1/ETL1C_06\n",
      "ETL1/ETL1C_07\n",
      "ETL1/ETL1C_09\n",
      "ETL1/ETL1C_13\n",
      "ETL1/ETL1C_12\n",
      "ETL1/ETL1C_05\n",
      "ETL1/ETL1C_02\n",
      "ETL1/ETL1C_03\n",
      "ETL1/ETL1C_04\n",
      "ETL1/ETL1C_10\n",
      "ETL1/ETL1C_11\n",
      "ok\n"
     ]
    }
   ],
   "source": [
    "import os, glob\n",
    "import struct\n",
    "from PIL import Image, ImageEnhance\n",
    "\n",
    "file = glob.glob('ETL1/*')\n",
    "dir = 'png_file/'\n",
    "if not os.path.exists(dir): os.mkdir(dir)\n",
    "\n",
    "for i in file:\n",
    "    if i == \"ETL1/ETL1INFO\": continue\n",
    "    data = open(i, 'rb') \n",
    "    data.seek(0)\n",
    "    print(i)\n",
    "    while True:\n",
    "        f = data.read(2052)\n",
    "        if not f: break\n",
    "        k = struct.unpack('>H2sH6BI4H4B4x2016s4x', f)\n",
    "        im = Image.frombytes('F', (64, 63), k[18], 'bit', 4)\n",
    "        im_cv = im.convert(\"L\")\n",
    "        IL = ImageEnhance.Brightness(im_cv)\n",
    "        en = IL.enhance(16)\n",
    "        filename = '{0:02x}-{1:02x}{2:04x}.png'.format(k[3], k[0], k[2])\n",
    "        path = dir+str(k[3])\n",
    "        if not os.path.exists(path): os.mkdir(path)\n",
    "        fullpath = path+\"/\"+filename\n",
    "        if os.path.exists(fullpath): continue\n",
    "        en.save(fullpath, 'PNG')\n",
    "print(\"ok\")\n",
    "ko\n"
   ]
  },
  {
   "cell_type": "code",
   "execution_count": null,
   "metadata": {},
   "outputs": [],
   "source": []
  }
 ],
 "metadata": {
  "kernelspec": {
   "display_name": "Python 3",
   "language": "python",
   "name": "python3"
  },
  "language_info": {
   "codemirror_mode": {
    "name": "ipython",
    "version": 3
   },
   "file_extension": ".py",
   "mimetype": "text/x-python",
   "name": "python",
   "nbconvert_exporter": "python",
   "pygments_lexer": "ipython3",
   "version": "3.7.0"
  }
 },
 "nbformat": 4,
 "nbformat_minor": 4
}
