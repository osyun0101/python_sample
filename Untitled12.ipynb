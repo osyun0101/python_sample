{
 "cells": [
  {
   "cell_type": "code",
   "execution_count": null,
   "metadata": {},
   "outputs": [],
   "source": [
    "import numpy as np\n",
    "from sklearn.naive_bayes import GaussianNB\n",
    "from sklearn.metrics import accuracy_score\n",
    "\n",
    "def code_point(str):\n",
    "    counter = np.zeros(65535)\n",
    "    \n",
    "    for i in range(len(str)):\n",
    "        point = ord(str[i])\n",
    "        if point > 65535: continue\n",
    "        counter[point] += 1\n",
    "    \n",
    "    counter = counter / len(str)\n",
    "    return counter\n",
    "\n",
    "ja_str = 'これは日本語の文章です。'\n",
    "en_str = 'This is English Sentences.'\n",
    "th_str = 'นี่เป็นประโยคภาษาไทย'\n",
    "\n",
    "x_train = [code_point(ja_str), code_point(en_str), code_point(th_str)]\n",
    "y_train = ['ja', 'en', 'th']\n",
    "\n",
    "ja_test_str = 'こんにちは'\n",
    "en_test_str = 'Hello'\n",
    "th_test_str = 'สวัสดี'\n",
    "\n",
    "x_test = [code_point(ja_test_str), code_point(en_test_str), code_point(th_test_str)]\n",
    "y_test = ['ja', 'en', 'th']\n",
    "\n",
    "clf = GaussianNB()\n",
    "clf.fit(x_train, y_train)\n",
    "\n",
    "pre_d = clf.predict(x_test)\n"
   ]
  }
 ],
 "metadata": {
  "kernelspec": {
   "display_name": "Python 3",
   "language": "python",
   "name": "python3"
  },
  "language_info": {
   "codemirror_mode": {
    "name": "ipython",
    "version": 3
   },
   "file_extension": ".py",
   "mimetype": "text/x-python",
   "name": "python",
   "nbconvert_exporter": "python",
   "pygments_lexer": "ipython3",
   "version": "3.7.0"
  }
 },
 "nbformat": 4,
 "nbformat_minor": 4
}
