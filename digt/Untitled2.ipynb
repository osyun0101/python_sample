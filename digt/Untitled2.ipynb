{
 "cells": [
  {
   "cell_type": "code",
   "execution_count": null,
   "metadata": {},
   "outputs": [
    {
     "name": "stdout",
     "output_type": "stream",
     "text": [
      "Epoch 1/12\n",
      "3000/3000 [==============================] - 91s 30ms/step - loss: 0.1707 - accuracy: 0.9498 - val_loss: 0.0702 - val_accuracy: 0.9779\n",
      "Epoch 2/12\n",
      "3000/3000 [==============================] - 89s 30ms/step - loss: 0.0962 - accuracy: 0.9727 - val_loss: 0.0540 - val_accuracy: 0.9818\n",
      "Epoch 3/12\n",
      "3000/3000 [==============================] - 89s 30ms/step - loss: 0.0968 - accuracy: 0.9737 - val_loss: 0.0498 - val_accuracy: 0.9841\n",
      "Epoch 4/12\n",
      "3000/3000 [==============================] - 89s 30ms/step - loss: 0.0986 - accuracy: 0.9731 - val_loss: 0.0788 - val_accuracy: 0.9782\n",
      "Epoch 5/12\n",
      "3000/3000 [==============================] - 89s 30ms/step - loss: 0.1024 - accuracy: 0.9729 - val_loss: 0.0570 - val_accuracy: 0.9851\n",
      "Epoch 6/12\n",
      "3000/3000 [==============================] - 89s 30ms/step - loss: 0.1104 - accuracy: 0.9718 - val_loss: 0.0781 - val_accuracy: 0.9799\n",
      "Epoch 7/12\n",
      "3000/3000 [==============================] - 89s 30ms/step - loss: 0.1203 - accuracy: 0.9706 - val_loss: 0.0757 - val_accuracy: 0.9780\n",
      "Epoch 8/12\n",
      "3000/3000 [==============================] - 89s 30ms/step - loss: 0.1348 - accuracy: 0.9669 - val_loss: 0.0662 - val_accuracy: 0.9825\n",
      "Epoch 9/12\n",
      "3000/3000 [==============================] - 89s 30ms/step - loss: 0.1422 - accuracy: 0.9663 - val_loss: 0.0652 - val_accuracy: 0.9822\n",
      "Epoch 10/12\n",
      "3000/3000 [==============================] - 90s 30ms/step - loss: 0.1552 - accuracy: 0.9642 - val_loss: 0.0787 - val_accuracy: 0.9791\n",
      "Epoch 11/12\n",
      "2861/3000 [===========================>..] - ETA: 4s - loss: 0.1608 - accuracy: 0.9639"
     ]
    }
   ],
   "source": [
    "import keras\n",
    "import matplotlib as plt\n",
    "from keras.datasets import mnist\n",
    "from keras.layers import Conv2D, Dropout, Dense, Flatten, MaxPooling2D\n",
    "from keras.optimizers import RMSprop\n",
    "\n",
    "(x_train, y_train), (x_test, y_test) = mnist.load_data()\n",
    "\n",
    "x_train = x_train.reshape(-1, 28, 28, 1)\n",
    "x_train = x_train.astype('float32') / 255\n",
    "x_test = x_test.reshape(-1, 28, 28, 1)\n",
    "x_test = x_test.astype('float32') / 255\n",
    "y_train = keras.utils.to_categorical(y_train.astype('int32'), 10)\n",
    "y_test = keras.utils.to_categorical(y_test.astype('int32'), 10)\n",
    "\n",
    "model = keras.models.Sequential()\n",
    "model.add(Conv2D(32, kernel_size=(3, 3), activation='relu', input_shape=(28,28,1)))\n",
    "model.add(Conv2D(64, (3,3),activation='relu'))\n",
    "model.add(MaxPooling2D(pool_size=(2,2)))\n",
    "model.add(Dropout(0.25))\n",
    "model.add(Flatten())\n",
    "model.add(Dense(128, activation='relu'))\n",
    "model.add(Dropout(0.5))\n",
    "model.add(Dense(10, activation='softmax'))\n",
    "\n",
    "model.compile(\n",
    "    loss='categorical_crossentropy',\n",
    "    optimizer=RMSprop(),\n",
    "    metrics=['accuracy']\n",
    ")\n",
    "\n",
    "hist = model.fit(x_train, y_train, epochs=12, batch_size=128, verbose=1 validation_data=(x_test, y_test))\n",
    "score = model.evaluate(x_test, y_test, verbose=1)\n",
    "print('正解率=', score[1], 'loss=', scpre[0])\n",
    "\n",
    "plt.plot(hist.history['accracy'])\n",
    "plt.plot(hist.history['val_accuracy'])\n",
    "plt.title('accracy')\n",
    "plt.legend(['train', 'test'], loc='upper left')\n",
    "plt.show()\n",
    "\n",
    "plt.plot(hist.history['loss'])\n",
    "plt.plot(hist.history['val_loss'])\n",
    "plt.title('loss')\n",
    "plt.legend(['train', 'test'], loc='upper left')\n",
    "plt.show()"
   ]
  },
  {
   "cell_type": "code",
   "execution_count": null,
   "metadata": {},
   "outputs": [],
   "source": []
  }
 ],
 "metadata": {
  "kernelspec": {
   "display_name": "Python 3",
   "language": "python",
   "name": "python3"
  },
  "language_info": {
   "codemirror_mode": {
    "name": "ipython",
    "version": 3
   },
   "file_extension": ".py",
   "mimetype": "text/x-python",
   "name": "python",
   "nbconvert_exporter": "python",
   "pygments_lexer": "ipython3",
   "version": "3.7.0"
  }
 },
 "nbformat": 4,
 "nbformat_minor": 4
}
