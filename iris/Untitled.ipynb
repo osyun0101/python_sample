{
 "cells": [
  {
   "cell_type": "code",
   "execution_count": 5,
   "metadata": {},
   "outputs": [
    {
     "ename": "SyntaxError",
     "evalue": "invalid syntax (<ipython-input-5-036cd33670c6>, line 29)",
     "output_type": "error",
     "traceback": [
      "\u001b[0;36m  File \u001b[0;32m\"<ipython-input-5-036cd33670c6>\"\u001b[0;36m, line \u001b[0;32m29\u001b[0m\n\u001b[0;31m    optimizer: 'adam',\u001b[0m\n\u001b[0m             ^\u001b[0m\n\u001b[0;31mSyntaxError\u001b[0m\u001b[0;31m:\u001b[0m invalid syntax\n"
     ]
    }
   ],
   "source": [
    "import pandas as pd\n",
    "import numpy as np\n",
    "import tensorflow.keras as keras\n",
    "from sklearn.model_selection import train_test_split\n",
    "\n",
    "iris_data = pd.read_csv('./iris.csv', encoding='utf-8')\n",
    "\n",
    "y_label = iris_data.loc[:, \"Name\"]\n",
    "x_data = iris_data.loc[:, [\"SepalLength\",\"SepalWidth\",\"PetalLength\",\"PetalWidth\"]]\n",
    "\n",
    "labels= {\n",
    "    \"Iris-setosa\": [1, 0, 0],\n",
    "    \"Iris-versicolor\": [0, 1, 0],\n",
    "    \"Iris-virginica\": [0, 0, 1]\n",
    "}\n",
    "y = np.array(list(map(lambda v: labels[v], y_label)))\n",
    "x_data = np.array(x_data)\n",
    "\n",
    "x_train, x_test, y_train, y_test = train_test_split(x_data, y, train_size=0.8)\n",
    "\n",
    "\n",
    "Dense = keras.layers.Dense()\n",
    "model= keras.models.Sequential()\n",
    "model.add(Dense(10, activation='relu', input_shape=(4,)))\n",
    "model.add(Dense(3, activation='softmax'))\n",
    "\n",
    "\n",
    "model.compile(\n",
    "    optimizer: 'adam',\n",
    "    loss: 'categorical_crossentropy',\n",
    "    metrics=['accuracy']\n",
    ")\n",
    "\n",
    "model.fit(x_train, y_train, epochs=300, batch_size=20)\n",
    "score = model.evaluate(x_test, y_test, verbose=1)\n",
    "print(\"正解率は\", score[1],  score[0])"
   ]
  },
  {
   "cell_type": "code",
   "execution_count": null,
   "metadata": {},
   "outputs": [],
   "source": [
    " "
   ]
  }
 ],
 "metadata": {
  "kernelspec": {
   "display_name": "Python 3",
   "language": "python",
   "name": "python3"
  },
  "language_info": {
   "codemirror_mode": {
    "name": "ipython",
    "version": 3
   },
   "file_extension": ".py",
   "mimetype": "text/x-python",
   "name": "python",
   "nbconvert_exporter": "python",
   "pygments_lexer": "ipython3",
   "version": "3.7.0"
  }
 },
 "nbformat": 4,
 "nbformat_minor": 4
}
