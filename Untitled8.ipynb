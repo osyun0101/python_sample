{
 "cells": [
  {
   "cell_type": "code",
   "execution_count": 14,
   "metadata": {},
   "outputs": [
    {
     "name": "stdout",
     "output_type": "stream",
     "text": [
      "[[80, 119, 57, 78], [140, 119, 58, 78], [204, 122, 52, 72], [270, 122, 52, 72], [328, 121, 54, 74], [387, 121, 54, 74], [446, 121, 54, 74]]\n"
     ]
    }
   ],
   "source": [
    "import cv2\n",
    "import matplotlib.pyplot as plt\n",
    "\n",
    "def dect_image(img):\n",
    "    img = cv2.imread(img)\n",
    "    h,w = img.shape[:2]\n",
    "    img = img[0:h//2, w//3:w]\n",
    "    \n",
    "    img_g = cv2.cvtColor(img, cv2.COLOR_BGR2GRAY)\n",
    "    img_g = cv2.GaussianBlur(img_g, (3,3), 0)\n",
    "    img_g = cv2.threshold(img_g, 140, 255, cv2.THRESH_BINARY_INV)[1]\n",
    "    \n",
    "    frame = cv2.findContours(img_g, cv2.RETR_LIST, cv2.CHAIN_APPROX_SIMPLE)[1]\n",
    "    \n",
    "    \n",
    "    result = []\n",
    "    for tr in frame:\n",
    "        x,y,w,h = cv2.boundingRect(tr)\n",
    "        if w < 50 or w > 70: continue\n",
    "        result.append([x,y,w,h])\n",
    "    \n",
    "    result = sorted(result)\n",
    "    \n",
    "    result2 = []\n",
    "    lastx = -100\n",
    "    for x,y,w,h in result:\n",
    "        if x - lastx < 10: continue\n",
    "        result2.append([x,y,w,h])\n",
    "        lastx = x\n",
    "    \n",
    "    for x,y,w,h in result2:\n",
    "         img = cv2.rectangle(img, (x,y), (x+w, y+h),(0,255,0),3)\n",
    "        \n",
    "    return im\n",
    "\n",
    "if __name__ == '__main__':\n",
    "    img = dect_image(\"hagaki1.png\")"
   ]
  },
  {
   "cell_type": "code",
   "execution_count": null,
   "metadata": {},
   "outputs": [],
   "source": []
  }
 ],
 "metadata": {
  "kernelspec": {
   "display_name": "Python 3",
   "language": "python",
   "name": "python3"
  },
  "language_info": {
   "codemirror_mode": {
    "name": "ipython",
    "version": 3
   },
   "file_extension": ".py",
   "mimetype": "text/x-python",
   "name": "python",
   "nbconvert_exporter": "python",
   "pygments_lexer": "ipython3",
   "version": "3.7.0"
  }
 },
 "nbformat": 4,
 "nbformat_minor": 4
}
