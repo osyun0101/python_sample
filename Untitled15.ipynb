{
 "cells": [
  {
   "cell_type": "code",
   "execution_count": 5,
   "metadata": {},
   "outputs": [
    {
     "name": "stdout",
     "output_type": "stream",
     "text": [
      "['メイ', '恋ダンス', '踊る', 'いる']\n"
     ]
    }
   ],
   "source": [
    "import MeCab\n",
    "\n",
    "tagger = MeCab.Tagger(\"-d /var/lib/mecab/dic/mecab-ipadic-neologd\")\n",
    "nodes = tagger.parseToNode(\"メイが恋ダンスを踊っている。\")\n",
    "\n",
    "result = []\n",
    "while nodes is not None:\n",
    "    hinshi = nodes.feature.split(\",\")[0]\n",
    "    if hinshi in [\"名詞\"]:\n",
    "        result.append(nodes.surface)\n",
    "    elif hinshi in [\"動詞\", \"形容詞\"]:\n",
    "        result.append(nodes.feature.split(\",\")[6])\n",
    "        \n",
    "    nodes = nodes.next\n",
    "    \n",
    "print(result)"
   ]
  },
  {
   "cell_type": "code",
   "execution_count": null,
   "metadata": {},
   "outputs": [],
   "source": []
  }
 ],
 "metadata": {
  "kernelspec": {
   "display_name": "Python 3",
   "language": "python",
   "name": "python3"
  },
  "language_info": {
   "codemirror_mode": {
    "name": "ipython",
    "version": 3
   },
   "file_extension": ".py",
   "mimetype": "text/x-python",
   "name": "python",
   "nbconvert_exporter": "python",
   "pygments_lexer": "ipython3",
   "version": "3.7.0"
  }
 },
 "nbformat": 4,
 "nbformat_minor": 4
}
