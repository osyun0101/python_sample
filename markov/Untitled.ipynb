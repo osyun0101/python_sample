{
 "cells": [
  {
   "cell_type": "code",
   "execution_count": null,
   "metadata": {},
   "outputs": [],
   "source": [
    "import MeCab\n",
    "import os.path, json\n",
    "\n",
    "dic={}\n",
    "dic_name = 'dic_data'\n",
    "wordlist = []\n",
    "\n",
    "    \n",
    "def make_dic(wordlist):\n",
    "    global dic\n",
    "    w1 = \"\"\n",
    "    w2 = \"\"\n",
    "    if w1 and w2:\n",
    "            for w in wordlist:\n",
    "                if w[0] in not dic: dic[w1]={}\n",
    "                if w[0] in dic[w1]\n",
    "            \n",
    "        \n",
    "        \n",
    "if os.path.exists(dic_name): \n",
    "    dic = json.load(dic_name)\n",
    "\n",
    "\n",
    "while True:\n",
    "    text = input(\"You>\")\n",
    "    tagger = MeCab.Tagger(\"-d /var/lib/mecab/dic/mecab-ipadic-neologd\")\n",
    "    tagger.parse(\"\")\n",
    "    word = tagger.parseToNode(text)\n",
    "    \n",
    "    while word is not None:\n",
    "        fea = word.feature.split(\",\")[0]\n",
    "        sur = word.surface\n",
    "        wordlist.append(sur, fea)\n",
    "        word = word.next\n",
    "        \n",
    "    \n",
    "    \n",
    "    dictio = make_dic(wordlist)"
   ]
  }
 ],
 "metadata": {
  "kernelspec": {
   "display_name": "Python 3",
   "language": "python",
   "name": "python3"
  },
  "language_info": {
   "codemirror_mode": {
    "name": "ipython",
    "version": 3
   },
   "file_extension": ".py",
   "mimetype": "text/x-python",
   "name": "python",
   "nbconvert_exporter": "python",
   "pygments_lexer": "ipython3",
   "version": "3.7.0"
  }
 },
 "nbformat": 4,
 "nbformat_minor": 4
}
