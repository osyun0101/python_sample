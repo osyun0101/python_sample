{
 "cells": [
  {
   "cell_type": "code",
   "execution_count": 4,
   "metadata": {},
   "outputs": [
    {
     "name": "stdout",
     "output_type": "stream",
     "text": [
      "PCが起動しなくなりました。急いでください。\n",
      "-0.07569494\n",
      "0.19036315\n",
      "0.23082742\n",
      "0.17777878\n",
      "0.41520905\n",
      "0.22818485\n",
      "使い方がわかりません。\n",
      "0.12731293\n",
      "0.1789085\n"
     ]
    }
   ],
   "source": [
    "import MeCab\n",
    "from gensim.models import word2vec\n",
    "\n",
    "model = word2vec.Word2Vec.load('./wiki.model')\n",
    "tagger = MeCab.Tagger('-d /var/lib/mecab/dic/mecab-ipadic-neologd')\n",
    "tagger.parse(\"\")\n",
    "\n",
    "def emergency(text):\n",
    "    print(text)\n",
    "    node = tagger.parseToNode(text)\n",
    "    while node is not None:\n",
    "        fea = node.feature.split(\",\")\n",
    "        if fea[0] == \"名詞\" or  fea[0] == \"動詞\" or fea[0] == \"形容詞\":\n",
    "            print(model.wv.similarity(node.surface, '至急'))\n",
    "        node = node.next\n",
    "\n",
    "emergency(\"PCが起動しなくなりました。急いでください。\")\n",
    "emergency(\"使い方がわかりません。\")"
   ]
  },
  {
   "cell_type": "code",
   "execution_count": null,
   "metadata": {},
   "outputs": [],
   "source": []
  }
 ],
 "metadata": {
  "kernelspec": {
   "display_name": "Python 3",
   "language": "python",
   "name": "python3"
  },
  "language_info": {
   "codemirror_mode": {
    "name": "ipython",
    "version": 3
   },
   "file_extension": ".py",
   "mimetype": "text/x-python",
   "name": "python",
   "nbconvert_exporter": "python",
   "pygments_lexer": "ipython3",
   "version": "3.7.0"
  }
 },
 "nbformat": 4,
 "nbformat_minor": 4
}
