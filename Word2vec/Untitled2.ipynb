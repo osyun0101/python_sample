{
 "cells": [
  {
   "cell_type": "code",
   "execution_count": 1,
   "metadata": {},
   "outputs": [
    {
     "name": "stdout",
     "output_type": "stream",
     "text": [
      "('女王', 0.7142372727394104)\n",
      "('太子', 0.7014948129653931)\n",
      "('توس', 0.6817766427993774)\n",
      "('トガン', 0.6602417826652527)\n",
      "('懿王', 0.6581200361251831)\n",
      "('ビンビサーラ', 0.656947135925293)\n",
      "('后', 0.6566681861877441)\n",
      "('ドルゴン', 0.65347820520401)\n",
      "('トゴン・テムル', 0.6529481410980225)\n",
      "('ホンタイジ', 0.6510694622993469)\n"
     ]
    }
   ],
   "source": [
    "from gensim.models import word2vec\n",
    "model = word2vec.Word2Vec.load('./wiki.model')\n",
    "results = model.wv.most_similar(positive=['王','女'], negative=['男'])\n",
    "for i in results:\n",
    "    print(i)"
   ]
  },
  {
   "cell_type": "code",
   "execution_count": null,
   "metadata": {},
   "outputs": [],
   "source": []
  }
 ],
 "metadata": {
  "kernelspec": {
   "display_name": "Python 3",
   "language": "python",
   "name": "python3"
  },
  "language_info": {
   "codemirror_mode": {
    "name": "ipython",
    "version": 3
   },
   "file_extension": ".py",
   "mimetype": "text/x-python",
   "name": "python",
   "nbconvert_exporter": "python",
   "pygments_lexer": "ipython3",
   "version": "3.7.0"
  }
 },
 "nbformat": 4,
 "nbformat_minor": 4
}
