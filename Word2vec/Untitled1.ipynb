{
 "cells": [
  {
   "cell_type": "code",
   "execution_count": 1,
   "metadata": {},
   "outputs": [
    {
     "name": "stdout",
     "output_type": "stream",
     "text": [
      "('事業', 0.7478708624839783)\n",
      "('アフターサービス', 0.7194490432739258)\n",
      "('サービス', 0.7064998745918274)\n",
      "('カスタマーサポート', 0.6912367939949036)\n",
      "('受託', 0.6829246282577515)\n",
      "('配送', 0.6740725040435791)\n",
      "('窓口', 0.6699284911155701)\n",
      "('取扱', 0.667988657951355)\n",
      "('取扱い', 0.6668846607208252)\n",
      "('物流', 0.6601148247718811)\n"
     ]
    }
   ],
   "source": [
    "from gensim.models import word2vec\n",
    "\n",
    "model = word2vec.Word2Vec.load('./wiki.model')\n",
    "results = model.wv.most_similar(positive=['業務'])\n",
    "\n",
    "for result in results:\n",
    "    print(result)"
   ]
  },
  {
   "cell_type": "code",
   "execution_count": null,
   "metadata": {},
   "outputs": [],
   "source": []
  }
 ],
 "metadata": {
  "kernelspec": {
   "display_name": "Python 3",
   "language": "python",
   "name": "python3"
  },
  "language_info": {
   "codemirror_mode": {
    "name": "ipython",
    "version": 3
   },
   "file_extension": ".py",
   "mimetype": "text/x-python",
   "name": "python",
   "nbconvert_exporter": "python",
   "pygments_lexer": "ipython3",
   "version": "3.7.0"
  }
 },
 "nbformat": 4,
 "nbformat_minor": 4
}
