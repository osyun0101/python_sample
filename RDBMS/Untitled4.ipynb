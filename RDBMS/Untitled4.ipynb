{
 "cells": [
  {
   "cell_type": "code",
   "execution_count": 14,
   "metadata": {},
   "outputs": [
    {
     "name": "stdout",
     "output_type": "stream",
     "text": [
      "肥満1 確率 0.9580389\n",
      "32/32 [==============================] - 0s 510us/step - loss: 13.2840 - accuracy: 0.2130\n",
      "正解 0.21299999952316284 13.283980369567871\n"
     ]
    }
   ],
   "source": [
    "from keras.models import load_model\n",
    "import numpy as np\n",
    "import random\n",
    "from keras.utils import to_categorical\n",
    "\n",
    "model = load_model('./hw-model.h5')\n",
    "model.load_weights('./hw-mode-weight.h5')\n",
    "\n",
    "height = 160 \n",
    "weight = 50 \n",
    "\n",
    "LABELS = ['低体重(痩せ型)', '普通体重','肥満1','肥満2','肥満3','肥満4']\n",
    "x = [height / 200, weight / 150]\n",
    "pre = model.predict(np.array([x]))\n",
    "idx = pre[0].argmax()\n",
    "print(LABELS[idx], '確率', pre[0][idx])\n",
    "\n",
    "t_x = []\n",
    "t_y = []\n",
    "for i in range(1000):\n",
    "    h = random.randint(130, 180)\n",
    "    w = random.randint(30, 100)\n",
    "    bmi = w / ((h / 100) ** 2)\n",
    "    type_no = 1\n",
    "    if bmi < 18.5:\n",
    "        type_no = 0\n",
    "    elif bmi < 25:\n",
    "        type_no = 1\n",
    "    elif bmi < 30:\n",
    "        type_no = 2\n",
    "    elif bmi < 35:\n",
    "        type_no = 3\n",
    "    elif bmi < 40:\n",
    "        type_no = 4\n",
    "    else:\n",
    "        type_no = 5\n",
    "    t_x.append(np.array([h / 200, w / 150]))\n",
    "    t_y.append(type_no)\n",
    "    \n",
    "t_x = np.array(t_x)\n",
    "t_y = to_categorical(t_y, 6)\n",
    "\n",
    "score = model.evaluate(t_x, t_y, verbose=1)\n",
    "print('正解',score[1], score[0])"
   ]
  },
  {
   "cell_type": "code",
   "execution_count": null,
   "metadata": {},
   "outputs": [],
   "source": []
  },
  {
   "cell_type": "code",
   "execution_count": null,
   "metadata": {},
   "outputs": [],
   "source": []
  }
 ],
 "metadata": {
  "kernelspec": {
   "display_name": "Python 3",
   "language": "python",
   "name": "python3"
  },
  "language_info": {
   "codemirror_mode": {
    "name": "ipython",
    "version": 3
   },
   "file_extension": ".py",
   "mimetype": "text/x-python",
   "name": "python",
   "nbconvert_exporter": "python",
   "pygments_lexer": "ipython3",
   "version": "3.7.0"
  }
 },
 "nbformat": 4,
 "nbformat_minor": 4
}
