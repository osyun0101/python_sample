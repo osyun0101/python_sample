{
 "cells": [
  {
   "cell_type": "code",
   "execution_count": null,
   "metadata": {},
   "outputs": [],
   "source": [
    "import sqlite3\n",
    "import random\n",
    "\n",
    "path = './hw.sqlite3'\n",
    "\n",
    "def insert_db(conn):\n",
    "    height = random.randint(130, 180)\n",
    "    weight = random.randint(30, 100)\n",
    "    bmi = weight / (height / 100) ** 2\n",
    "    type_no = 1\n",
    "    if bmi < 18.5:\n",
    "        type_no = 0\n",
    "    elif bmi < 25:\n",
    "        type_no = 1\n",
    "    elif bmi < 30:\n",
    "        type_no = 2\n",
    "    elif bmi < 35:\n",
    "        type_no = 3\n",
    "    elif bmi <40:\n",
    "        type_no = 4\n",
    "    else \n",
    "        type_no = 5\n",
    "    \n",
    "    value = (height, weight, type_no)\n",
    "    print(value)\n",
    "    sql = '''\n",
    "    INSERT INTO person(height, weight, typNo)\n",
    "    VALUES(?, ?, ?)\n",
    "    '''\n",
    "    conn.executemany(sql, [value])\n",
    "    \n",
    "    \n",
    "with sqlite3.connect(path) as conn:\n",
    "    for i in range(100):\n",
    "        insert_db(conn)\n",
    "    c = conn.execute('SELECT count(*) FROM ')"
   ]
  }
 ],
 "metadata": {
  "kernelspec": {
   "display_name": "Python 3",
   "language": "python",
   "name": "python3"
  },
  "language_info": {
   "codemirror_mode": {
    "name": "ipython",
    "version": 3
   },
   "file_extension": ".py",
   "mimetype": "text/x-python",
   "name": "python",
   "nbconvert_exporter": "python",
   "pygments_lexer": "ipython3",
   "version": "3.7.0"
  }
 },
 "nbformat": 4,
 "nbformat_minor": 4
}
