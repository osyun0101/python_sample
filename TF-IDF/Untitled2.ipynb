{
 "cells": [
  {
   "cell_type": "code",
   "execution_count": 10,
   "metadata": {},
   "outputs": [
    {
     "name": "stdout",
     "output_type": "stream",
     "text": [
      "正解率 0.9330484330484331\n",
      "              precision    recall  f1-score   support\n",
      "\n",
      "           0       0.97      0.95      0.96       187\n",
      "           1       0.99      0.94      0.97       168\n",
      "           2       0.86      0.98      0.91       172\n",
      "           3       0.93      0.86      0.89       175\n",
      "\n",
      "    accuracy                           0.93       702\n",
      "   macro avg       0.94      0.93      0.93       702\n",
      "weighted avg       0.94      0.93      0.93       702\n",
      "\n"
     ]
    }
   ],
   "source": [
    "from sklearn.model_selection import train_test_split\n",
    "from sklearn.naive_bayes import GaussianNB\n",
    "from sklearn import metrics\n",
    "import pickle\n",
    "\n",
    "path = 'text/genre.pickle'\n",
    "data = pickle.load(open(path, 'rb'))\n",
    "x = data[1]\n",
    "y = data[0]\n",
    "\n",
    "x_train,x_test,y_train, y_test = train_test_split(x, y, test_size=0.2)\n",
    "\n",
    "model = GaussianNB()\n",
    "model.fit(x_train, y_train)\n",
    "\n",
    "y_pred = model.predict(x_test)\n",
    "print('正解率', metrics.accuracy_score(y_test, y_pred))\n",
    "print(metrics.classification_report(y_test, y_pred))\n"
   ]
  },
  {
   "cell_type": "code",
   "execution_count": null,
   "metadata": {},
   "outputs": [],
   "source": []
  }
 ],
 "metadata": {
  "kernelspec": {
   "display_name": "Python 3",
   "language": "python",
   "name": "python3"
  },
  "language_info": {
   "codemirror_mode": {
    "name": "ipython",
    "version": 3
   },
   "file_extension": ".py",
   "mimetype": "text/x-python",
   "name": "python",
   "nbconvert_exporter": "python",
   "pygments_lexer": "ipython3",
   "version": "3.7.0"
  }
 },
 "nbformat": 4,
 "nbformat_minor": 4
}
