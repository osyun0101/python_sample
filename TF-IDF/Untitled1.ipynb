{
 "cells": [
  {
   "cell_type": "code",
   "execution_count": null,
   "metadata": {},
   "outputs": [
    {
     "name": "stdout",
     "output_type": "stream",
     "text": [
      "text/sports-watch\n",
      "text/it-life-hack\n",
      "text/movie-enter\n",
      "text/dokujo-tsushin\n"
     ]
    }
   ],
   "source": [
    "import pickle\n",
    "import os, glob\n",
    "import tfidf\n",
    "\n",
    "y=[]\n",
    "x = []\n",
    "def read_text(path, label):\n",
    "    file = glob.glob(path+\"/*.txt\")\n",
    "    print(path)\n",
    "    for f in file:\n",
    "        if os.path.basename(f) == 'LICENSE.txt': continue\n",
    "        tfidf.add_file(f)\n",
    "        y.append(label)\n",
    "        \n",
    "\n",
    "\n",
    "read_text('text/sports-watch', 0)\n",
    "read_text('text/it-life-hack', 1)\n",
    "read_text('text/movie-enter', 2)\n",
    "read_text('text/dokujo-tsushin', 3)\n",
    "\n",
    "\n",
    "x = tfidf.calc_files()\n",
    "\n",
    "pickle.dump([y,x], open('text/genre.pickle', 'wb'))\n",
    "tfidf.save_dic('text/genre-tfidf.dic')\n",
    "print(\"ok\")\n"
   ]
  },
  {
   "cell_type": "code",
   "execution_count": null,
   "metadata": {},
   "outputs": [],
   "source": []
  },
  {
   "cell_type": "code",
   "execution_count": null,
   "metadata": {},
   "outputs": [],
   "source": []
  },
  {
   "cell_type": "code",
   "execution_count": null,
   "metadata": {},
   "outputs": [],
   "source": []
  },
  {
   "cell_type": "code",
   "execution_count": null,
   "metadata": {},
   "outputs": [],
   "source": []
  },
  {
   "cell_type": "code",
   "execution_count": null,
   "metadata": {},
   "outputs": [],
   "source": []
  },
  {
   "cell_type": "code",
   "execution_count": null,
   "metadata": {},
   "outputs": [],
   "source": []
  }
 ],
 "metadata": {
  "kernelspec": {
   "display_name": "Python 3",
   "language": "python",
   "name": "python3"
  },
  "language_info": {
   "codemirror_mode": {
    "name": "ipython",
    "version": 3
   },
   "file_extension": ".py",
   "mimetype": "text/x-python",
   "name": "python",
   "nbconvert_exporter": "python",
   "pygments_lexer": "ipython3",
   "version": "3.7.0"
  }
 },
 "nbformat": 4,
 "nbformat_minor": 4
}
