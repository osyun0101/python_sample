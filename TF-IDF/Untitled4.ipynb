{
 "cells": [
  {
   "cell_type": "code",
   "execution_count": 4,
   "metadata": {},
   "outputs": [
    {
     "name": "stdout",
     "output_type": "stream",
     "text": [
      "スポーツ 0.73095745\n",
      "IT 1.0\n",
      "ライフ 1.0\n"
     ]
    }
   ],
   "source": [
    "import tfidf\n",
    "import numpy as np\n",
    "from keras.models import Sequential\n",
    "from keras.layers import Dense, Dropout\n",
    "from keras.optimizers import RMSprop\n",
    "\n",
    "\n",
    "text1 = \"\"\"\n",
    "野球を観るのは楽しいものです。\n",
    "試合だけでなくインタビューも楽しみです。\n",
    "\"\"\"\n",
    "text2 = \"\"\"\n",
    "常にiPhoneとiPadを持っているので、\n",
    "二口あるモバイルバッテリがあると便利。\n",
    "\"\"\"\n",
    "text3 = \"\"\"\n",
    "幸せな結婚の秘訣は何でしょうか。\n",
    "夫には敬意を、妻には愛情を示すことが大切。\n",
    "\"\"\"\n",
    "\n",
    "tfidf.load_dic('./text/genre-tfidf.dic')\n",
    "in_size = len(tfidf.dt_dic)\n",
    "out_size = 4\n",
    "\n",
    "model = Sequential()\n",
    "model.add(Dense(512, activation='relu', input_shape=(in_size,)))\n",
    "model.add(Dropout(0.2))\n",
    "model.add(Dense(512, activation='relu'))\n",
    "model.add(Dropout(0.2))\n",
    "model.add(Dense(out_size, activation='softmax'))\n",
    "model.compile(\n",
    "    loss='categorical_crossentropy',\n",
    "    optimizer=RMSprop(),\n",
    "    metrics=['accuracy']\n",
    ")\n",
    "model.load_weights('./text/genre-model.hdf5')\n",
    "\n",
    "def check_tf(text):\n",
    "    LABELS = ['スポーツ', 'IT', '映画', 'ライフ']\n",
    "    data = tfidf.calc_text(text)\n",
    "    pre = model.predict(np.array([data]))[0]\n",
    "    n = pre.argmax()\n",
    "    print(LABELS[n], pre[n])\n",
    "    return LABELS\n",
    "\n",
    "\n",
    "if __name__=='__main__':\n",
    "    check_tf(text1)\n",
    "    check_tf(text2)\n",
    "    check_tf(text3)"
   ]
  },
  {
   "cell_type": "code",
   "execution_count": null,
   "metadata": {},
   "outputs": [],
   "source": []
  }
 ],
 "metadata": {
  "kernelspec": {
   "display_name": "Python 3",
   "language": "python",
   "name": "python3"
  },
  "language_info": {
   "codemirror_mode": {
    "name": "ipython",
    "version": 3
   },
   "file_extension": ".py",
   "mimetype": "text/x-python",
   "name": "python",
   "nbconvert_exporter": "python",
   "pygments_lexer": "ipython3",
   "version": "3.7.0"
  }
 },
 "nbformat": 4,
 "nbformat_minor": 4
}
