{
 "cells": [
  {
   "cell_type": "code",
   "execution_count": 1,
   "metadata": {},
   "outputs": [
    {
     "name": "stdout",
     "output_type": "stream",
     "text": [
      "Epoch 1/20\n",
      "22/22 [==============================] - 7s 312ms/step - loss: 0.5969 - accuracy: 0.8754 - val_loss: 0.1142 - val_accuracy: 0.9729\n",
      "Epoch 2/20\n",
      "22/22 [==============================] - 7s 332ms/step - loss: 0.0299 - accuracy: 0.9961 - val_loss: 0.0588 - val_accuracy: 0.9815\n",
      "Epoch 3/20\n",
      "22/22 [==============================] - 6s 278ms/step - loss: 0.0040 - accuracy: 1.0000 - val_loss: 0.0487 - val_accuracy: 0.9843\n",
      "Epoch 4/20\n",
      "22/22 [==============================] - 6s 267ms/step - loss: 7.8625e-04 - accuracy: 1.0000 - val_loss: 0.0437 - val_accuracy: 0.9872\n",
      "Epoch 5/20\n",
      "22/22 [==============================] - 6s 266ms/step - loss: 2.1158e-04 - accuracy: 1.0000 - val_loss: 0.0425 - val_accuracy: 0.9843\n",
      "Epoch 6/20\n",
      "22/22 [==============================] - 6s 283ms/step - loss: 5.8986e-05 - accuracy: 1.0000 - val_loss: 0.0416 - val_accuracy: 0.9858\n",
      "Epoch 7/20\n",
      "22/22 [==============================] - 7s 299ms/step - loss: 1.9899e-05 - accuracy: 1.0000 - val_loss: 0.0418 - val_accuracy: 0.9872\n",
      "Epoch 8/20\n",
      "22/22 [==============================] - 6s 275ms/step - loss: 7.7977e-06 - accuracy: 1.0000 - val_loss: 0.0428 - val_accuracy: 0.9858\n",
      "Epoch 9/20\n",
      "22/22 [==============================] - 6s 268ms/step - loss: 2.5713e-06 - accuracy: 1.0000 - val_loss: 0.0430 - val_accuracy: 0.9872\n",
      "Epoch 10/20\n",
      "22/22 [==============================] - 6s 257ms/step - loss: 1.2589e-06 - accuracy: 1.0000 - val_loss: 0.0445 - val_accuracy: 0.9843\n",
      "Epoch 11/20\n",
      "22/22 [==============================] - 6s 286ms/step - loss: 7.4165e-07 - accuracy: 1.0000 - val_loss: 0.0443 - val_accuracy: 0.9872\n",
      "Epoch 12/20\n",
      "22/22 [==============================] - 6s 266ms/step - loss: 3.5338e-07 - accuracy: 1.0000 - val_loss: 0.0454 - val_accuracy: 0.9872\n",
      "Epoch 13/20\n",
      "22/22 [==============================] - 6s 293ms/step - loss: 2.1426e-07 - accuracy: 1.0000 - val_loss: 0.0467 - val_accuracy: 0.9858\n",
      "Epoch 14/20\n",
      "22/22 [==============================] - 6s 270ms/step - loss: 1.7104e-07 - accuracy: 1.0000 - val_loss: 0.0461 - val_accuracy: 0.9858\n",
      "Epoch 15/20\n",
      "22/22 [==============================] - 6s 267ms/step - loss: 1.3810e-07 - accuracy: 1.0000 - val_loss: 0.0468 - val_accuracy: 0.9858\n",
      "Epoch 16/20\n",
      "22/22 [==============================] - 6s 268ms/step - loss: 9.4034e-08 - accuracy: 1.0000 - val_loss: 0.0471 - val_accuracy: 0.9858\n",
      "Epoch 17/20\n",
      "22/22 [==============================] - 7s 298ms/step - loss: 8.1638e-08 - accuracy: 1.0000 - val_loss: 0.0470 - val_accuracy: 0.9872\n",
      "Epoch 18/20\n",
      "22/22 [==============================] - 6s 275ms/step - loss: 7.3402e-08 - accuracy: 1.0000 - val_loss: 0.0474 - val_accuracy: 0.9872\n",
      "Epoch 19/20\n",
      "22/22 [==============================] - 6s 283ms/step - loss: 5.7100e-08 - accuracy: 1.0000 - val_loss: 0.0477 - val_accuracy: 0.9872\n",
      "Epoch 20/20\n",
      "22/22 [==============================] - 6s 254ms/step - loss: 4.5637e-08 - accuracy: 1.0000 - val_loss: 0.0479 - val_accuracy: 0.9872\n",
      "22/22 [==============================] - 0s 10ms/step - loss: 0.0479 - accuracy: 0.9872\n",
      "正解率 0.9871794581413269 loss 0.047906890511512756\n"
     ]
    },
    {
     "data": {
      "image/png": "[encoded data removed]",
      "text/plain": [
       "<Figure size 432x288 with 1 Axes>"
      ]
     },
     "metadata": {
      "needs_background": "light"
     },
     "output_type": "display_data"
    }
   ],
   "source": [
    "import pickle\n",
    "from keras.models import Sequential\n",
    "from keras.layers import Dropout, Dense\n",
    "import keras\n",
    "from sklearn.model_selection import train_test_split\n",
    "from keras.optimizers import RMSprop\n",
    "import matplotlib.pyplot as plt\n",
    "import numpy as np\n",
    "\n",
    "path = 'text/genre.pickle'\n",
    "data = pickle.load(open(path, 'rb'))\n",
    "\n",
    "out_size = 4\n",
    "x = data[1]\n",
    "y = data[0]\n",
    "in_size = x[0].shape[0]\n",
    "\n",
    "y = keras.utils.to_categorical(y, out_size)\n",
    "\n",
    "x_train,x_test, y_train, y_test = train_test_split(np.array(x),np.array(y), test_size=0.2)\n",
    "\n",
    "model = Sequential()\n",
    "model.add(Dense(512, activation='relu', input_shape=(in_size,)))\n",
    "model.add(Dropout(0.2))\n",
    "model.add(Dense(512, activation='relu'))\n",
    "model.add(Dropout(0.2))\n",
    "model.add(Dense(out_size, activation='softmax'))\n",
    "          \n",
    "model.compile(\n",
    "    loss='categorical_crossentropy',\n",
    "    optimizer=RMSprop(),\n",
    "    metrics=['accuracy']\n",
    ")\n",
    "          \n",
    "          \n",
    "hist = model.fit(x_train, y_train, batch_size=128, epochs=20, verbose=1, validation_data=(x_test, y_test))\n",
    "\n",
    "score = model.evaluate(x_test, y_test, verbose=1)\n",
    "print('正解率', score[1], 'loss', score[0])\n",
    "\n",
    "model.save_weights('./text/genre-model.hdf5')\n",
    "\n",
    "\n",
    "plt.plot(hist.history['accuracy'])\n",
    "plt.plot(hist.history['val_accuracy'])\n",
    "plt.title('Accuracy')\n",
    "plt.legend(['train', 'test'], loc='upper left')\n",
    "plt.show()"
   ]
  },
  {
   "cell_type": "code",
   "execution_count": null,
   "metadata": {},
   "outputs": [],
   "source": []
  },
  {
   "cell_type": "code",
   "execution_count": null,
   "metadata": {},
   "outputs": [],
   "source": []
  }
 ],
 "metadata": {
  "kernelspec": {
   "display_name": "Python 3",
   "language": "python",
   "name": "python3"
  },
  "language_info": {
   "codemirror_mode": {
    "name": "ipython",
    "version": 3
   },
   "file_extension": ".py",
   "mimetype": "text/x-python",
   "name": "python",
   "nbconvert_exporter": "python",
   "pygments_lexer": "ipython3",
   "version": "3.7.0"
  }
 },
 "nbformat": 4,
 "nbformat_minor": 4
}
