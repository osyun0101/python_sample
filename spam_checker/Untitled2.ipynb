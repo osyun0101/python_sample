{
 "cells": [
  {
   "cell_type": "code",
   "execution_count": 3,
   "metadata": {},
   "outputs": [
    {
     "name": "stdout",
     "output_type": "stream",
     "text": [
      "結果は OK\n",
      "結果は SPAM\n"
     ]
    }
   ],
   "source": [
    "import numpy as np\n",
    "import pickle\n",
    "from sklearn.naive_bayes import GaussianNB\n",
    "import MeCab\n",
    "\n",
    "tagger = MeCab.Tagger()\n",
    "d = pickle.load(open(\"./ok-spam.pickle\", 'rb'))\n",
    "word_dic = d[2]\n",
    "model = pickle.load(open(\"./ok-model.pickle\", 'rb'))\n",
    "label = [\"OK\", \"SPAM\"]\n",
    "\n",
    "text1 = \"\"\"\n",
    "会社から支給されているiPhoneの調子が悪いのです。\n",
    "修理に出すので、しばらくはアプリのテストができません。\n",
    "\"\"\"\n",
    "text2 = \"\"\"\n",
    "億万長者になる方法を教えます。\n",
    "すぐに以下のアドレスに返信して。\n",
    "\"\"\"\n",
    "\n",
    "def check_spam(text):\n",
    "    zw = np.zeros(word_dic[\"__id\"])\n",
    "    count = 0\n",
    "    s = tagger.parse(text)\n",
    "    for line in s.split(\"\\n\"):\n",
    "        if line == \"EOS\": break\n",
    "        org = line.split(\"\\t\")[3]\n",
    "        if org in word_dic:\n",
    "            id = word_dic[org] \n",
    "            zw[id] += 1\n",
    "            count += 1\n",
    "    zw = zw / count\n",
    "    \n",
    "    pre = model.predict([zw])[0]\n",
    "    print(\"結果は\", label[pre])\n",
    "\n",
    "if __name__ == \"__main__\":\n",
    "    check_spam(text1)\n",
    "    check_spam(text2)"
   ]
  },
  {
   "cell_type": "code",
   "execution_count": null,
   "metadata": {},
   "outputs": [],
   "source": []
  }
 ],
 "metadata": {
  "kernelspec": {
   "display_name": "Python 3",
   "language": "python",
   "name": "python3"
  },
  "language_info": {
   "codemirror_mode": {
    "name": "ipython",
    "version": 3
   },
   "file_extension": ".py",
   "mimetype": "text/x-python",
   "name": "python",
   "nbconvert_exporter": "python",
   "pygments_lexer": "ipython3",
   "version": "3.7.0"
  }
 },
 "nbformat": 4,
 "nbformat_minor": 4
}
