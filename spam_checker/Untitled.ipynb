{
 "cells": [
  {
   "cell_type": "code",
   "execution_count": 15,
   "metadata": {},
   "outputs": [
    {
     "name": "stdout",
     "output_type": "stream",
     "text": [
      "単語頻出データ完了\n"
     ]
    }
   ],
   "source": [
    "import numpy as np\n",
    "import glob\n",
    "import pickle\n",
    "import MeCab\n",
    "\n",
    "tagger = MeCab.Tagger()\n",
    "word_dic = {\"__id\": 0}\n",
    "files = []\n",
    "\n",
    "\n",
    "def read_txt(name, label):\n",
    "    file = glob.glob(name+\"/*.txt\")\n",
    "    \n",
    "    words = []\n",
    "    for filename in file:\n",
    "        with open(filename, 'rt', encoding='utf-8') as fp:\n",
    "            word_data = fp.read()\n",
    "            \n",
    "        word = tagger.parse(word_data)\n",
    "        for w in word.split(\"\\n\"):\n",
    "            if w == 'EOS' or w == '': continue\n",
    "            hinsi = w.split(\"\\t\")[4].split(\"-\")\n",
    "            hinsi2 = hinsi[1] if len(hinsi) > 1 else ''\n",
    "            if hinsi[0] not in [\"名詞\", \"動詞\", \"形容詞\"]: continue\n",
    "            if hinsi[0] == [\"名詞\"] and hinsi2 == [\"数詞\"]: continue\n",
    "            wd = w.split(\"\\t\")[3]\n",
    "            if wd not in word_dic:\n",
    "                id = word_dic[\"__id\"]\n",
    "                word_dic[\"__id\"] += 1\n",
    "                word_dic[wd] = id \n",
    "            else:\n",
    "                id = word_dic[wd]\n",
    "            words.append(id)\n",
    "    files.append({\n",
    "        \"label\": label,\n",
    "        \"word\" : words\n",
    "    })\n",
    "        \n",
    "\n",
    "def make_req_data(files):\n",
    "    for file in files:\n",
    "        label = file[\"label\"]\n",
    "        word_id = file[\"word\"]\n",
    "        \n",
    "        cnt = 0\n",
    "        dat = np.zeros(word_dic[\"__id\"])\n",
    "        for w in word_id:\n",
    "            dat[w] +=1 \n",
    "            cnt +=1\n",
    "        dat= dat/cnt\n",
    "        y = []\n",
    "        x = []\n",
    "        y.append(label)\n",
    "        x.append(dat)\n",
    "        return y, x\n",
    "        \n",
    "        \n",
    "            \n",
    "\n",
    "\n",
    "if __name__ == \"__main__\":\n",
    "    read_txt(\"ok\", 0)\n",
    "    read_txt(\"spam\", 1)\n",
    "    y,x = make_req_data(files)\n",
    "    pickle.dump([y,x, word_dic], open(\"./ok-spam.pickle\", 'wb'))\n",
    "    print(\"単語頻出データ完了\")\n",
    "    "
   ]
  },
  {
   "cell_type": "code",
   "execution_count": null,
   "metadata": {},
   "outputs": [],
   "source": []
  },
  {
   "cell_type": "code",
   "execution_count": null,
   "metadata": {},
   "outputs": [],
   "source": []
  },
  {
   "cell_type": "code",
   "execution_count": null,
   "metadata": {},
   "outputs": [],
   "source": []
  },
  {
   "cell_type": "code",
   "execution_count": null,
   "metadata": {},
   "outputs": [],
   "source": []
  },
  {
   "cell_type": "code",
   "execution_count": null,
   "metadata": {},
   "outputs": [],
   "source": []
  },
  {
   "cell_type": "code",
   "execution_count": null,
   "metadata": {},
   "outputs": [],
   "source": []
  },
  {
   "cell_type": "code",
   "execution_count": null,
   "metadata": {},
   "outputs": [],
   "source": []
  }
 ],
 "metadata": {
  "kernelspec": {
   "display_name": "Python 3",
   "language": "python",
   "name": "python3"
  },
  "language_info": {
   "codemirror_mode": {
    "name": "ipython",
    "version": 3
   },
   "file_extension": ".py",
   "mimetype": "text/x-python",
   "name": "python",
   "nbconvert_exporter": "python",
   "pygments_lexer": "ipython3",
   "version": "3.7.0"
  }
 },
 "nbformat": 4,
 "nbformat_minor": 4
}
